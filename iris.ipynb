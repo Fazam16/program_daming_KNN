{
 "cells": [
  {
   "cell_type": "markdown",
   "metadata": {},
   "source": [
    "## Klasifikasi Bunga Iris dengan algoritma KNN\n",
    "       \n"
   ]
  },
  {
   "cell_type": "markdown",
   "metadata": {},
   "source": [
    "### Mengimpor semua dependancy"
   ]
  },
  {
   "cell_type": "code",
   "execution_count": 1,
   "metadata": {},
   "outputs": [],
   "source": [
    "import pandas as pd, statistics as esteh, math"
   ]
  },
  {
   "cell_type": "markdown",
   "metadata": {},
   "source": [
    "### Loading dataset "
   ]
  },
  {
   "cell_type": "code",
   "execution_count": 2,
   "metadata": {},
   "outputs": [
    {
     "data": {
      "text/html": [
       "<div>\n",
       "<style scoped>\n",
       "    .dataframe tbody tr th:only-of-type {\n",
       "        vertical-align: middle;\n",
       "    }\n",
       "\n",
       "    .dataframe tbody tr th {\n",
       "        vertical-align: top;\n",
       "    }\n",
       "\n",
       "    .dataframe thead th {\n",
       "        text-align: right;\n",
       "    }\n",
       "</style>\n",
       "<table border=\"1\" class=\"dataframe\">\n",
       "  <thead>\n",
       "    <tr style=\"text-align: right;\">\n",
       "      <th></th>\n",
       "      <th>Sepal Length(cm)</th>\n",
       "      <th>Sepal Width(cm)</th>\n",
       "      <th>Petal Length(cm)</th>\n",
       "      <th>Petal Width(cm)</th>\n",
       "      <th>Class</th>\n",
       "      <th>Unnamed: 5</th>\n",
       "      <th>Z-Score SL</th>\n",
       "      <th>Z-Score SW</th>\n",
       "      <th>Z-Score PL</th>\n",
       "      <th>Z-Score PW</th>\n",
       "      <th>Unnamed: 10</th>\n",
       "      <th>Euclidean</th>\n",
       "    </tr>\n",
       "  </thead>\n",
       "  <tbody>\n",
       "    <tr>\n",
       "      <th>0</th>\n",
       "      <td>6.6</td>\n",
       "      <td>2.9</td>\n",
       "      <td>4.6</td>\n",
       "      <td>1.3</td>\n",
       "      <td>Iris-versicolor</td>\n",
       "      <td></td>\n",
       "      <td>0.915940</td>\n",
       "      <td>-0.347930</td>\n",
       "      <td>0.481470</td>\n",
       "      <td>0.141187</td>\n",
       "      <td>NaN</td>\n",
       "      <td>NaN</td>\n",
       "    </tr>\n",
       "    <tr>\n",
       "      <th>1</th>\n",
       "      <td>7.2</td>\n",
       "      <td>3.2</td>\n",
       "      <td>6.0</td>\n",
       "      <td>1.8</td>\n",
       "      <td>Iris-virginica</td>\n",
       "      <td></td>\n",
       "      <td>1.636841</td>\n",
       "      <td>0.335449</td>\n",
       "      <td>1.271932</td>\n",
       "      <td>0.793505</td>\n",
       "      <td>NaN</td>\n",
       "      <td>NaN</td>\n",
       "    </tr>\n",
       "    <tr>\n",
       "      <th>2</th>\n",
       "      <td>4.9</td>\n",
       "      <td>2.5</td>\n",
       "      <td>4.5</td>\n",
       "      <td>1.7</td>\n",
       "      <td>Iris-virginica</td>\n",
       "      <td></td>\n",
       "      <td>-1.126614</td>\n",
       "      <td>-1.259103</td>\n",
       "      <td>0.425009</td>\n",
       "      <td>0.663041</td>\n",
       "      <td>NaN</td>\n",
       "      <td>NaN</td>\n",
       "    </tr>\n",
       "    <tr>\n",
       "      <th>3</th>\n",
       "      <td>5.7</td>\n",
       "      <td>4.4</td>\n",
       "      <td>1.5</td>\n",
       "      <td>0.4</td>\n",
       "      <td>Iris-setosa</td>\n",
       "      <td></td>\n",
       "      <td>-0.165412</td>\n",
       "      <td>3.068965</td>\n",
       "      <td>-1.268838</td>\n",
       "      <td>-1.032986</td>\n",
       "      <td>NaN</td>\n",
       "      <td>NaN</td>\n",
       "    </tr>\n",
       "    <tr>\n",
       "      <th>4</th>\n",
       "      <td>6.6</td>\n",
       "      <td>3.0</td>\n",
       "      <td>4.4</td>\n",
       "      <td>1.4</td>\n",
       "      <td>Iris-versicolor</td>\n",
       "      <td></td>\n",
       "      <td>0.915940</td>\n",
       "      <td>-0.120137</td>\n",
       "      <td>0.368547</td>\n",
       "      <td>0.271650</td>\n",
       "      <td>NaN</td>\n",
       "      <td>NaN</td>\n",
       "    </tr>\n",
       "  </tbody>\n",
       "</table>\n",
       "</div>"
      ],
      "text/plain": [
       "   Sepal Length(cm)  Sepal Width(cm)  Petal Length(cm)  Petal Width(cm)  \\\n",
       "0               6.6              2.9               4.6              1.3   \n",
       "1               7.2              3.2               6.0              1.8   \n",
       "2               4.9              2.5               4.5              1.7   \n",
       "3               5.7              4.4               1.5              0.4   \n",
       "4               6.6              3.0               4.4              1.4   \n",
       "\n",
       "             Class Unnamed: 5  Z-Score SL  Z-Score SW  Z-Score PL  Z-Score PW  \\\n",
       "0  Iris-versicolor               0.915940   -0.347930    0.481470    0.141187   \n",
       "1   Iris-virginica               1.636841    0.335449    1.271932    0.793505   \n",
       "2   Iris-virginica              -1.126614   -1.259103    0.425009    0.663041   \n",
       "3      Iris-setosa              -0.165412    3.068965   -1.268838   -1.032986   \n",
       "4  Iris-versicolor               0.915940   -0.120137    0.368547    0.271650   \n",
       "\n",
       "   Unnamed: 10  Euclidean  \n",
       "0          NaN        NaN  \n",
       "1          NaN        NaN  \n",
       "2          NaN        NaN  \n",
       "3          NaN        NaN  \n",
       "4          NaN        NaN  "
      ]
     },
     "execution_count": 2,
     "metadata": {},
     "output_type": "execute_result"
    }
   ],
   "source": [
    "dataSet = pd.read_excel('./Iris.xlsx')\n",
    "dataSet.head()"
   ]
  },
  {
   "cell_type": "markdown",
   "metadata": {},
   "source": [
    "### Dataset Description"
   ]
  },
  {
   "cell_type": "code",
   "execution_count": 3,
   "metadata": {
    "scrolled": true
   },
   "outputs": [
    {
     "data": {
      "text/html": [
       "<div>\n",
       "<style scoped>\n",
       "    .dataframe tbody tr th:only-of-type {\n",
       "        vertical-align: middle;\n",
       "    }\n",
       "\n",
       "    .dataframe tbody tr th {\n",
       "        vertical-align: top;\n",
       "    }\n",
       "\n",
       "    .dataframe thead th {\n",
       "        text-align: right;\n",
       "    }\n",
       "</style>\n",
       "<table border=\"1\" class=\"dataframe\">\n",
       "  <thead>\n",
       "    <tr style=\"text-align: right;\">\n",
       "      <th></th>\n",
       "      <th>Sepal Length(cm)</th>\n",
       "      <th>Sepal Width(cm)</th>\n",
       "      <th>Petal Length(cm)</th>\n",
       "      <th>Petal Width(cm)</th>\n",
       "      <th>Z-Score SL</th>\n",
       "      <th>Z-Score SW</th>\n",
       "      <th>Z-Score PL</th>\n",
       "      <th>Z-Score PW</th>\n",
       "      <th>Unnamed: 10</th>\n",
       "      <th>Euclidean</th>\n",
       "    </tr>\n",
       "  </thead>\n",
       "  <tbody>\n",
       "    <tr>\n",
       "      <th>count</th>\n",
       "      <td>146.000000</td>\n",
       "      <td>146.000000</td>\n",
       "      <td>146.000000</td>\n",
       "      <td>146.000000</td>\n",
       "      <td>1.460000e+02</td>\n",
       "      <td>1.460000e+02</td>\n",
       "      <td>1.460000e+02</td>\n",
       "      <td>1.460000e+02</td>\n",
       "      <td>0.0</td>\n",
       "      <td>0.0</td>\n",
       "    </tr>\n",
       "    <tr>\n",
       "      <th>mean</th>\n",
       "      <td>5.837671</td>\n",
       "      <td>3.052740</td>\n",
       "      <td>3.747260</td>\n",
       "      <td>1.191781</td>\n",
       "      <td>4.045470e-16</td>\n",
       "      <td>2.157331e-15</td>\n",
       "      <td>8.668865e-16</td>\n",
       "      <td>-2.007527e-16</td>\n",
       "      <td>NaN</td>\n",
       "      <td>NaN</td>\n",
       "    </tr>\n",
       "    <tr>\n",
       "      <th>std</th>\n",
       "      <td>0.832291</td>\n",
       "      <td>0.438995</td>\n",
       "      <td>1.771117</td>\n",
       "      <td>0.766497</td>\n",
       "      <td>1.000000e+00</td>\n",
       "      <td>1.000000e+00</td>\n",
       "      <td>1.000000e+00</td>\n",
       "      <td>1.000000e+00</td>\n",
       "      <td>NaN</td>\n",
       "      <td>NaN</td>\n",
       "    </tr>\n",
       "    <tr>\n",
       "      <th>min</th>\n",
       "      <td>4.300000</td>\n",
       "      <td>2.000000</td>\n",
       "      <td>1.000000</td>\n",
       "      <td>0.100000</td>\n",
       "      <td>-1.847515e+00</td>\n",
       "      <td>-2.398068e+00</td>\n",
       "      <td>-1.551146e+00</td>\n",
       "      <td>-1.424377e+00</td>\n",
       "      <td>NaN</td>\n",
       "      <td>NaN</td>\n",
       "    </tr>\n",
       "    <tr>\n",
       "      <th>25%</th>\n",
       "      <td>5.100000</td>\n",
       "      <td>2.800000</td>\n",
       "      <td>1.525000</td>\n",
       "      <td>0.300000</td>\n",
       "      <td>-8.863136e-01</td>\n",
       "      <td>-5.757235e-01</td>\n",
       "      <td>-1.254723e+00</td>\n",
       "      <td>-1.163449e+00</td>\n",
       "      <td>NaN</td>\n",
       "      <td>NaN</td>\n",
       "    </tr>\n",
       "    <tr>\n",
       "      <th>50%</th>\n",
       "      <td>5.800000</td>\n",
       "      <td>3.000000</td>\n",
       "      <td>4.300000</td>\n",
       "      <td>1.300000</td>\n",
       "      <td>-4.526207e-02</td>\n",
       "      <td>-1.201374e-01</td>\n",
       "      <td>3.120854e-01</td>\n",
       "      <td>1.411866e-01</td>\n",
       "      <td>NaN</td>\n",
       "      <td>NaN</td>\n",
       "    </tr>\n",
       "    <tr>\n",
       "      <th>75%</th>\n",
       "      <td>6.400000</td>\n",
       "      <td>3.300000</td>\n",
       "      <td>5.100000</td>\n",
       "      <td>1.800000</td>\n",
       "      <td>6.756393e-01</td>\n",
       "      <td>5.632417e-01</td>\n",
       "      <td>7.637778e-01</td>\n",
       "      <td>7.935046e-01</td>\n",
       "      <td>NaN</td>\n",
       "      <td>NaN</td>\n",
       "    </tr>\n",
       "    <tr>\n",
       "      <th>max</th>\n",
       "      <td>7.900000</td>\n",
       "      <td>4.400000</td>\n",
       "      <td>6.900000</td>\n",
       "      <td>2.500000</td>\n",
       "      <td>2.477893e+00</td>\n",
       "      <td>3.068965e+00</td>\n",
       "      <td>1.780086e+00</td>\n",
       "      <td>1.706750e+00</td>\n",
       "      <td>NaN</td>\n",
       "      <td>NaN</td>\n",
       "    </tr>\n",
       "  </tbody>\n",
       "</table>\n",
       "</div>"
      ],
      "text/plain": [
       "       Sepal Length(cm)  Sepal Width(cm)  Petal Length(cm)  Petal Width(cm)  \\\n",
       "count        146.000000       146.000000        146.000000       146.000000   \n",
       "mean           5.837671         3.052740          3.747260         1.191781   \n",
       "std            0.832291         0.438995          1.771117         0.766497   \n",
       "min            4.300000         2.000000          1.000000         0.100000   \n",
       "25%            5.100000         2.800000          1.525000         0.300000   \n",
       "50%            5.800000         3.000000          4.300000         1.300000   \n",
       "75%            6.400000         3.300000          5.100000         1.800000   \n",
       "max            7.900000         4.400000          6.900000         2.500000   \n",
       "\n",
       "         Z-Score SL    Z-Score SW    Z-Score PL    Z-Score PW  Unnamed: 10  \\\n",
       "count  1.460000e+02  1.460000e+02  1.460000e+02  1.460000e+02          0.0   \n",
       "mean   4.045470e-16  2.157331e-15  8.668865e-16 -2.007527e-16          NaN   \n",
       "std    1.000000e+00  1.000000e+00  1.000000e+00  1.000000e+00          NaN   \n",
       "min   -1.847515e+00 -2.398068e+00 -1.551146e+00 -1.424377e+00          NaN   \n",
       "25%   -8.863136e-01 -5.757235e-01 -1.254723e+00 -1.163449e+00          NaN   \n",
       "50%   -4.526207e-02 -1.201374e-01  3.120854e-01  1.411866e-01          NaN   \n",
       "75%    6.756393e-01  5.632417e-01  7.637778e-01  7.935046e-01          NaN   \n",
       "max    2.477893e+00  3.068965e+00  1.780086e+00  1.706750e+00          NaN   \n",
       "\n",
       "       Euclidean  \n",
       "count        0.0  \n",
       "mean         NaN  \n",
       "std          NaN  \n",
       "min          NaN  \n",
       "25%          NaN  \n",
       "50%          NaN  \n",
       "75%          NaN  \n",
       "max          NaN  "
      ]
     },
     "execution_count": 3,
     "metadata": {},
     "output_type": "execute_result"
    }
   ],
   "source": [
    "dataSet.describe()"
   ]
  },
  {
   "cell_type": "code",
   "execution_count": 4,
   "metadata": {},
   "outputs": [
    {
     "data": {
      "text/plain": [
       "(146, 12)"
      ]
     },
     "execution_count": 4,
     "metadata": {},
     "output_type": "execute_result"
    }
   ],
   "source": [
    "dataSet.shape"
   ]
  },
  {
   "cell_type": "code",
   "execution_count": 5,
   "metadata": {},
   "outputs": [
    {
     "data": {
      "text/plain": [
       "Sepal Length(cm)    float64\n",
       "Sepal Width(cm)     float64\n",
       "Petal Length(cm)    float64\n",
       "Petal Width(cm)     float64\n",
       "Class                object\n",
       "Unnamed: 5           object\n",
       "Z-Score SL          float64\n",
       "Z-Score SW          float64\n",
       "Z-Score PL          float64\n",
       "Z-Score PW          float64\n",
       "Unnamed: 10         float64\n",
       "Euclidean           float64\n",
       "dtype: object"
      ]
     },
     "execution_count": 5,
     "metadata": {},
     "output_type": "execute_result"
    }
   ],
   "source": [
    "dataSet.dtypes"
   ]
  },
  {
   "cell_type": "code",
   "execution_count": 6,
   "metadata": {},
   "outputs": [],
   "source": [
    "averageSepalLength = sum(dataSet['Sepal Length(cm)'])/len(dataSet['Sepal Length(cm)'])\n",
    "averageSepalWidth = sum(dataSet['Sepal Width(cm)'])/len(dataSet['Sepal Width(cm)'])\n",
    "averagePetalLength = sum(dataSet['Petal Length(cm)'])/len(dataSet['Petal Length(cm)'])\n",
    "averagePetalWidth = sum(dataSet['Petal Width(cm)'])/len(dataSet['Petal Width(cm)'])\n",
    "\n",
    "simpBakuSepalLength = esteh.stdev(dataSet['Sepal Length(cm)'])\n",
    "simpBakuSepalWidth = esteh.stdev(dataSet['Sepal Width(cm)'])\n",
    "simpBakuPetalLength = esteh.stdev(dataSet['Petal Length(cm)'])\n",
    "simpBakuPetalWidth = esteh.stdev(dataSet['Petal Width(cm)'])"
   ]
  },
  {
   "cell_type": "markdown",
   "metadata": {},
   "source": [
    "### Mencari rata-rata dan simpangan baku dari dataset "
   ]
  },
  {
   "cell_type": "code",
   "execution_count": 7,
   "metadata": {},
   "outputs": [
    {
     "name": "stdout",
     "output_type": "stream",
     "text": [
      "Avg Sepal Length :  5.837671232876712\n",
      "Avg Sepal Width :  3.0527397260273963\n",
      "Avg Petal Length :  3.7472602739726013\n",
      "Avg Petal Width :  1.1917808219178083\n",
      "\n",
      "Simp. Baku Sepal Length :  0.8322914286481798\n",
      "Simp. Baku Sepal Width :  0.4389949658778917\n",
      "Simp. Baku Petal Length :  1.7711167412400046\n",
      "Simp. Baku Petal Width :  0.766497349057662\n"
     ]
    }
   ],
   "source": [
    "print(\"Avg Sepal Length : \" , averageSepalLength)\n",
    "print(\"Avg Sepal Width : \", averageSepalWidth)\n",
    "print(\"Avg Petal Length : \" , averagePetalLength)\n",
    "print(\"Avg Petal Width : \" , averagePetalWidth)\n",
    "\n",
    "print(\"\\nSimp. Baku Sepal Length : \" , simpBakuSepalLength)\n",
    "print(\"Simp. Baku Sepal Width : \" , simpBakuSepalWidth)\n",
    "print(\"Simp. Baku Petal Length : \" , simpBakuPetalLength)\n",
    "print(\"Simp. Baku Petal Width : \" , simpBakuPetalWidth)"
   ]
  },
  {
   "cell_type": "markdown",
   "metadata": {},
   "source": [
    "### Data Normalization dengan Z-Score"
   ]
  },
  {
   "cell_type": "code",
   "execution_count": 8,
   "metadata": {},
   "outputs": [],
   "source": [
    "# Mencari Z-Score Normalization\n",
    "z_score_sepal_length = ((dataSet['Sepal Length(cm)'] - averageSepalLength) / simpBakuSepalLength)\n",
    "z_score_sepal_width = ((dataSet['Sepal Width(cm)'] - averageSepalWidth) / simpBakuSepalWidth)\n",
    "z_score_petal_length = ((dataSet['Petal Length(cm)'] - averagePetalLength) / simpBakuPetalLength)\n",
    "z_score_petal_width = ((dataSet['Petal Width(cm)'] - averagePetalWidth) / simpBakuPetalWidth)\n",
    "\n",
    "dataSet[\"\"] = \" \"\n",
    "dataSet[\"Z-Score SL\"] = z_score_sepal_length\n",
    "dataSet[\"Z-Score SW\"] = z_score_sepal_width\n",
    "dataSet[\"Z-Score PL\"] = z_score_petal_length\n",
    "dataSet[\"Z-Score PW\"] = z_score_petal_width\n",
    "\n",
    "\n",
    "# dataSet.to_excel(\"Data Terbaru.xlsx\", index=False)"
   ]
  },
  {
   "cell_type": "markdown",
   "metadata": {},
   "source": [
    "### Input Data Testing "
   ]
  },
  {
   "cell_type": "markdown",
   "metadata": {},
   "source": [
    "#### Contoh \n",
    "Sepal Length : 6,6\n",
    "Sepal Width : 2,9\n",
    "Petal Length : 4,6\n",
    "Petal Width : 1,3"
   ]
  },
  {
   "cell_type": "code",
   "execution_count": 9,
   "metadata": {
    "scrolled": true
   },
   "outputs": [
    {
     "name": "stdout",
     "output_type": "stream",
     "text": [
      "Sepal Length : 6.6\n",
      "Sepal Width : 2.9\n",
      "Petal Length : 4.6\n",
      "Petal Width : 1.3\n"
     ]
    }
   ],
   "source": [
    "sepalLength = input(\"Sepal Length : \")\n",
    "sepalWidth = input(\"Sepal Width : \")\n",
    "petalLength = input(\"Petal Length : \")\n",
    "petalWidth = input(\"Petal Width : \")"
   ]
  },
  {
   "cell_type": "markdown",
   "metadata": {},
   "source": [
    "## Proses Training Data\n",
    "### Dilakukan dengan mencari jarak Euclidean dari data train ke data test"
   ]
  },
  {
   "cell_type": "code",
   "execution_count": 10,
   "metadata": {},
   "outputs": [
    {
     "name": "stderr",
     "output_type": "stream",
     "text": [
      "C:\\Users\\ghifa\\AppData\\Local\\Temp\\ipykernel_14496\\907362554.py:15: SettingWithCopyWarning: \n",
      "A value is trying to be set on a copy of a slice from a DataFrame\n",
      "\n",
      "See the caveats in the documentation: https://pandas.pydata.org/pandas-docs/stable/user_guide/indexing.html#returning-a-view-versus-a-copy\n",
      "  dataSet['Euclidean'][i] = euclidean_SL[i]\n"
     ]
    }
   ],
   "source": [
    "train_zscore_SL = ((float(sepalLength) - averageSepalLength) / simpBakuSepalLength)\n",
    "train_zscore_SW = ((float(sepalWidth) - averageSepalWidth) / simpBakuSepalWidth)\n",
    "train_zscore_PL = ((float(petalLength) - averagePetalLength) / simpBakuPetalLength)\n",
    "train_zscore_PW = ((float(petalWidth) - averagePetalWidth) / simpBakuPetalWidth)\n",
    "\n",
    "euclidean_SL = []\n",
    "for i in range(0, 146):\n",
    "    pertama = (dataSet['Z-Score SL'][i] - train_zscore_SL) * (dataSet['Z-Score SL'][i] - train_zscore_SL)\n",
    "    kedua = (dataSet['Z-Score SW'][i] - train_zscore_SW) * (dataSet['Z-Score SW'][i] - train_zscore_SW)\n",
    "    ketiga = (dataSet['Z-Score PL'][i] - train_zscore_PL) * (dataSet['Z-Score PL'][i] - train_zscore_PL)\n",
    "    keempat = (dataSet['Z-Score PW'][i] - train_zscore_PW) * (dataSet['Z-Score PW'][i] - train_zscore_PW)\n",
    "    euclidean_SL.append(math.sqrt(pertama + kedua + ketiga + keempat))\n",
    "\n",
    "for i in range(0, 146):  \n",
    "    dataSet['Euclidean'][i] = euclidean_SL[i]\n",
    "\n",
    "dataSet = dataSet.sort_values(\"Euclidean\", ascending=True)"
   ]
  },
  {
   "cell_type": "markdown",
   "metadata": {},
   "source": [
    "### Ekspor dataset baru yang telah ditambahkan nilai euclidean nya "
   ]
  },
  {
   "cell_type": "code",
   "execution_count": 13,
   "metadata": {},
   "outputs": [],
   "source": [
    "dataSet.to_excel(\"Data baru.xlsx\", index=False)"
   ]
  },
  {
   "cell_type": "markdown",
   "metadata": {},
   "source": [
    "### Mengurutkan nilai euclidean berdasarkan jarak tetangga terdekat "
   ]
  },
  {
   "cell_type": "code",
   "execution_count": 19,
   "metadata": {
    "scrolled": true
   },
   "outputs": [
    {
     "name": "stdout",
     "output_type": "stream",
     "text": [
      "\n",
      "Nilai K\t: 12\n",
      "Maka didapatkan 12 tetangga terdekat\n",
      "\n",
      "Iris-versicolor\n",
      "Iris-versicolor\n",
      "Iris-versicolor\n",
      "Iris-versicolor\n",
      "Iris-versicolor\n",
      "Iris-versicolor\n",
      "Iris-versicolor\n",
      "Iris-virginica\n",
      "Iris-versicolor\n",
      "Iris-versicolor\n",
      "Iris-versicolor\n",
      "Iris-versicolor\n"
     ]
    }
   ],
   "source": [
    "dataSetBaru = pd.read_excel(\"./Data baru.xlsx\")\n",
    "print(\"\\nNilai K\\t: 12\")\n",
    "print(\"Maka didapatkan 12 tetangga terdekat\\n\")\n",
    "for i in range(0, 12):\n",
    "    print(dataSetBaru['Class'][i])\n",
    "\n",
    "versicolor = [\"Iris-versicolor\" , 0]\n",
    "setosa = [\"Iris-setosa\" , 0]\n",
    "virginica = [\"Iris-virginica\" , 0]\n",
    "\n",
    "for i in range(0, 12):\n",
    "    if dataSetBaru['Class'][i] == \"Iris-versicolor\":\n",
    "        versicolor[1] = versicolor[1] + 1\n",
    "    elif dataSetBaru['Class'][i] == \"Iris-setosa\":\n",
    "        setosa[1] = setosa[1] + 1\n",
    "    elif dataSetBaru['Class'][i] == \"Iris-virginica\":\n",
    "        virginica[1] = virginica[1] + 1"
   ]
  },
  {
   "cell_type": "markdown",
   "metadata": {},
   "source": [
    "### Hasil Klasifikasi "
   ]
  },
  {
   "cell_type": "code",
   "execution_count": 20,
   "metadata": {},
   "outputs": [
    {
     "name": "stdout",
     "output_type": "stream",
     "text": [
      "\n",
      "Iris-versicolor\t:  11\n",
      "Iris-virginica\t:  1\n",
      "Iris-setosa\t:  0\n",
      "\n",
      "Maka data dengan attribute\n",
      "Sepal Length\t:  6.6 \n",
      "Sepal Width\t:  2.9 \n",
      "Petal Length\t:  4.6 \n",
      "Petal Width\t:  1.3\n",
      "Tergolong kedalam Class Iris-versicolor\n"
     ]
    }
   ],
   "source": [
    "print(\"\\nIris-versicolor\\t: \" , versicolor[1])\n",
    "print(\"Iris-virginica\\t: \" , virginica[1])\n",
    "print(\"Iris-setosa\\t: \" , setosa[1])\n",
    "\n",
    "print(\"\\nMaka data dengan attribute\")\n",
    "print(\"Sepal Length\\t: \" , sepalLength , \"\\nSepal Width\\t: \" , sepalWidth, \"\\nPetal Length\\t: \" , petalLength , \"\\nPetal Width\\t: \" , petalWidth)\n",
    "\n",
    "nilaiMaks = max(virginica[1], setosa[1], versicolor[1])\n",
    "golongan = \"\"\n",
    "if nilaiMaks == virginica[1]:\n",
    "    golongan = virginica[0]\n",
    "elif nilaiMaks == setosa[1]:\n",
    "    golongan = setosa[0]\n",
    "elif nilaiMaks == versicolor[1]:\n",
    "    golongan = versicolor[0]\n",
    "\n",
    "print(\"Tergolong kedalam Class\", golongan)"
   ]
  }
 ],
 "metadata": {
  "kernelspec": {
   "display_name": "Python 3 (ipykernel)",
   "language": "python",
   "name": "python3"
  },
  "language_info": {
   "codemirror_mode": {
    "name": "ipython",
    "version": 3
   },
   "file_extension": ".py",
   "mimetype": "text/x-python",
   "name": "python",
   "nbconvert_exporter": "python",
   "pygments_lexer": "ipython3",
   "version": "3.9.12"
  },
  "vscode": {
   "interpreter": {
    "hash": "14958d3aee5f1cad06795f787e54b96185c25fb40dfec723a5be941f3a531b8c"
   }
  }
 },
 "nbformat": 4,
 "nbformat_minor": 2
}
