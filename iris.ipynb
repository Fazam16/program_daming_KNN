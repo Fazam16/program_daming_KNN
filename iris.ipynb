{
 "cells": [
  {
   "cell_type": "code",
   "execution_count": 19,
   "metadata": {},
   "outputs": [],
   "source": [
    "import pandas as pd, statistics as esteh, math"
   ]
  },
  {
   "cell_type": "code",
   "execution_count": 20,
   "metadata": {},
   "outputs": [
    {
     "name": "stdout",
     "output_type": "stream",
     "text": [
      "     Sepal Length(cm)  Sepal Width(cm)  Petal Length(cm)  Petal Width(cm)  \\\n",
      "0                 6.6              2.9               4.6              1.3   \n",
      "1                 7.2              3.2               6.0              1.8   \n",
      "2                 4.9              2.5               4.5              1.7   \n",
      "3                 5.7              4.4               1.5              0.4   \n",
      "4                 6.6              3.0               4.4              1.4   \n",
      "..                ...              ...               ...              ...   \n",
      "141               5.8              2.7               5.1              1.9   \n",
      "142               4.6              3.4               1.4              0.3   \n",
      "143               7.6              3.0               6.6              2.1   \n",
      "144               4.3              3.0               1.1              0.1   \n",
      "145               7.2              3.0               5.8              1.6   \n",
      "\n",
      "               Class Unnamed: 5  Z-Score SL  Z-Score SW  Z-Score PL  \\\n",
      "0    Iris-versicolor               0.915940   -0.347930    0.481470   \n",
      "1     Iris-virginica               1.636841    0.335449    1.271932   \n",
      "2     Iris-virginica              -1.126614   -1.259103    0.425009   \n",
      "3        Iris-setosa              -0.165412    3.068965   -1.268838   \n",
      "4    Iris-versicolor               0.915940   -0.120137    0.368547   \n",
      "..               ...        ...         ...         ...         ...   \n",
      "141   Iris-virginica              -0.045262   -0.803517    0.763778   \n",
      "142      Iris-setosa              -1.487065    0.791035   -1.325300   \n",
      "143   Iris-virginica               2.117442   -0.120137    1.610701   \n",
      "144      Iris-setosa              -1.847515   -0.120137   -1.494684   \n",
      "145   Iris-virginica               1.636841   -0.120137    1.159009   \n",
      "\n",
      "     Z-Score PW  Unnamed: 10  Euclidean  \n",
      "0      0.141187          NaN        NaN  \n",
      "1      0.793505          NaN        NaN  \n",
      "2      0.663041          NaN        NaN  \n",
      "3     -1.032986          NaN        NaN  \n",
      "4      0.271650          NaN        NaN  \n",
      "..          ...          ...        ...  \n",
      "141    0.923968          NaN        NaN  \n",
      "142   -1.163449          NaN        NaN  \n",
      "143    1.184895          NaN        NaN  \n",
      "144   -1.424377          NaN        NaN  \n",
      "145    0.532577          NaN        NaN  \n",
      "\n",
      "[146 rows x 12 columns]\n"
     ]
    }
   ],
   "source": [
    "dataSet = pd.read_excel('./Data Terbaru.xlsx')\n",
    "print(dataSet)"
   ]
  },
  {
   "cell_type": "code",
   "execution_count": 21,
   "metadata": {},
   "outputs": [
    {
     "data": {
      "text/plain": [
       "Sepal Length(cm)    float64\n",
       "Sepal Width(cm)     float64\n",
       "Petal Length(cm)    float64\n",
       "Petal Width(cm)     float64\n",
       "Class                object\n",
       "Unnamed: 5           object\n",
       "Z-Score SL          float64\n",
       "Z-Score SW          float64\n",
       "Z-Score PL          float64\n",
       "Z-Score PW          float64\n",
       "Unnamed: 10         float64\n",
       "Euclidean           float64\n",
       "dtype: object"
      ]
     },
     "execution_count": 21,
     "metadata": {},
     "output_type": "execute_result"
    }
   ],
   "source": [
    "dataSet.dtypes"
   ]
  },
  {
   "cell_type": "code",
   "execution_count": 22,
   "metadata": {},
   "outputs": [],
   "source": [
    "averageSepalLength = sum(dataSet['Sepal Length(cm)'])/len(dataSet['Sepal Length(cm)'])\n",
    "averageSepalWidth = sum(dataSet['Sepal Width(cm)'])/len(dataSet['Sepal Width(cm)'])\n",
    "averagePetalLength = sum(dataSet['Petal Length(cm)'])/len(dataSet['Petal Length(cm)'])\n",
    "averagePetalWidth = sum(dataSet['Petal Width(cm)'])/len(dataSet['Petal Width(cm)'])\n",
    "\n",
    "simpBakuSepalLength = esteh.stdev(dataSet['Sepal Length(cm)'])\n",
    "simpBakuSepalWidth = esteh.stdev(dataSet['Sepal Width(cm)'])\n",
    "simpBakuPetalLength = esteh.stdev(dataSet['Petal Length(cm)'])\n",
    "simpBakuPetalWidth = esteh.stdev(dataSet['Petal Width(cm)'])"
   ]
  },
  {
   "cell_type": "code",
   "execution_count": 23,
   "metadata": {},
   "outputs": [
    {
     "name": "stdout",
     "output_type": "stream",
     "text": [
      "Avg Sepal Length :  5.837671232876712\n",
      "Avg Sepal Width :  3.0527397260273963\n",
      "Avg Petal Length :  3.7472602739726013\n",
      "Avg Petal Width :  1.1917808219178083\n",
      "\n",
      "Simp. Baku Sepal Length :  0.8322914286481798\n",
      "Simp. Baku Sepal Width :  0.4389949658778917\n",
      "Simp. Baku Petal Length :  1.7711167412400046\n",
      "Simp. Baku Petal Width :  0.766497349057662\n"
     ]
    }
   ],
   "source": [
    "print(\"Avg Sepal Length : \" , averageSepalLength)\n",
    "print(\"Avg Sepal Width : \", averageSepalWidth)\n",
    "print(\"Avg Petal Length : \" , averagePetalLength)\n",
    "print(\"Avg Petal Width : \" , averagePetalWidth)\n",
    "\n",
    "print(\"\\nSimp. Baku Sepal Length : \" , simpBakuSepalLength)\n",
    "print(\"Simp. Baku Sepal Width : \" , simpBakuSepalWidth)\n",
    "print(\"Simp. Baku Petal Length : \" , simpBakuPetalLength)\n",
    "print(\"Simp. Baku Petal Width : \" , simpBakuPetalWidth)"
   ]
  },
  {
   "cell_type": "code",
   "execution_count": 24,
   "metadata": {},
   "outputs": [],
   "source": [
    "# Mencari Z-Score Normalization\n",
    "z_score_sepal_length = ((dataSet['Sepal Length(cm)'] - averageSepalLength) / simpBakuSepalLength)\n",
    "z_score_sepal_width = ((dataSet['Sepal Width(cm)'] - averageSepalWidth) / simpBakuSepalWidth)\n",
    "z_score_petal_length = ((dataSet['Petal Length(cm)'] - averagePetalLength) / simpBakuPetalLength)\n",
    "z_score_petal_width = ((dataSet['Petal Width(cm)'] - averagePetalWidth) / simpBakuPetalWidth)\n",
    "\n",
    "dataSet[\"\"] = \" \"\n",
    "dataSet[\"Z-Score SL\"] = z_score_sepal_length\n",
    "dataSet[\"Z-Score SW\"] = z_score_sepal_width\n",
    "dataSet[\"Z-Score PL\"] = z_score_petal_length\n",
    "dataSet[\"Z-Score PW\"] = z_score_petal_width\n",
    "\n",
    "\n",
    "# dataSet.to_excel(\"Data Terbaru.xlsx\", index=False)"
   ]
  },
  {
   "cell_type": "code",
   "execution_count": 25,
   "metadata": {},
   "outputs": [],
   "source": [
    "sepalLength = input(\"Sepal Length : \")\n",
    "sepalWidth = input(\"Sepal Width : \")\n",
    "petalLength = input(\"Petal Length : \")\n",
    "petalWidth = input(\"Petal Width : \")"
   ]
  },
  {
   "cell_type": "code",
   "execution_count": 37,
   "metadata": {},
   "outputs": [
    {
     "name": "stderr",
     "output_type": "stream",
     "text": [
      "C:\\Users\\ASUS\\AppData\\Local\\Temp\\ipykernel_17132\\3775747167.py:15: SettingWithCopyWarning: \n",
      "A value is trying to be set on a copy of a slice from a DataFrame\n",
      "\n",
      "See the caveats in the documentation: https://pandas.pydata.org/pandas-docs/stable/user_guide/indexing.html#returning-a-view-versus-a-copy\n",
      "  dataSet['Euclidean'][i] = euclidean_SL[i]\n"
     ]
    }
   ],
   "source": [
    "train_zscore_SL = ((float(sepalLength) - averageSepalLength) / simpBakuSepalLength)\n",
    "train_zscore_SW = ((float(sepalWidth) - averageSepalWidth) / simpBakuSepalWidth)\n",
    "train_zscore_PL = ((float(petalLength) - averagePetalLength) / simpBakuPetalLength)\n",
    "train_zscore_PW = ((float(petalWidth) - averagePetalWidth) / simpBakuPetalWidth)\n",
    "\n",
    "euclidean_SL = []\n",
    "for i in range(0, 146):\n",
    "    pertama = (dataSet['Z-Score SL'][i] - train_zscore_SL) * (dataSet['Z-Score SL'][i] - train_zscore_SL)\n",
    "    kedua = (dataSet['Z-Score SW'][i] - train_zscore_SW) * (dataSet['Z-Score SW'][i] - train_zscore_SW)\n",
    "    ketiga = (dataSet['Z-Score PL'][i] - train_zscore_PL) * (dataSet['Z-Score PL'][i] - train_zscore_PL)\n",
    "    keempat = (dataSet['Z-Score PW'][i] - train_zscore_PW) * (dataSet['Z-Score PW'][i] - train_zscore_PW)\n",
    "    euclidean_SL.append(math.sqrt(pertama + kedua + ketiga + keempat))\n",
    "\n",
    "for i in range(0, 146):  \n",
    "    dataSet['Euclidean'][i] = euclidean_SL[i]\n",
    "\n",
    "dataSet = dataSet.sort_values(\"Euclidean\", ascending=True)\n",
    "# virginica = 0\n",
    "# versicolor = 0\n",
    "# setosa = 0\n",
    "# for i in range(0, 12):\n",
    "#     if dataSetBaru['Class'][i] == \"Iris-versicolor\":\n",
    "#         versicolor=versicolor+1\n",
    "#     elif dataSetBaru['Class'][i] == \"Iris-setosa\":\n",
    "#         setosa=setosa+1\n",
    "#     elif dataSetBaru['Class'][i] == \"Iris-virginica\":\n",
    "#         virginica=virginica+1\n",
    "\n",
    "#     print(dataSetBaru['Class'][i])\n",
    "\n",
    "# nilai_max = max(versicolor, virginica, setosa)\n",
    "# print(virginica, versicolor, setosa)\n",
    "\n",
    "# if nilai_max == virginica:\n",
    "#     print(\"Iris-virginica\")\n",
    "# elif nilai_max == versicolor:\n",
    "#     print(\"Iris-versicolor\")\n",
    "# elif nilai_max == setosa:\n",
    "#     print(\"Iris-setosa\")\n",
    "\n"
   ]
  },
  {
   "cell_type": "code",
   "execution_count": 29,
   "metadata": {},
   "outputs": [],
   "source": [
    "dataSet.to_excel(\"Data Terbaru --.xlsx\", index=False)"
   ]
  }
 ],
 "metadata": {
  "kernelspec": {
   "display_name": "Python 3.9.1 64-bit",
   "language": "python",
   "name": "python3"
  },
  "language_info": {
   "codemirror_mode": {
    "name": "ipython",
    "version": 3
   },
   "file_extension": ".py",
   "mimetype": "text/x-python",
   "name": "python",
   "nbconvert_exporter": "python",
   "pygments_lexer": "ipython3",
   "version": "3.9.1"
  },
  "orig_nbformat": 4,
  "vscode": {
   "interpreter": {
    "hash": "14958d3aee5f1cad06795f787e54b96185c25fb40dfec723a5be941f3a531b8c"
   }
  }
 },
 "nbformat": 4,
 "nbformat_minor": 2
}
